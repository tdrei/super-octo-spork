{
 "cells": [
  {
   "cell_type": "code",
   "execution_count": 6,
   "metadata": {},
   "outputs": [],
   "source": [
    "# change the directory and point to IDEA export folder (see example)\n",
    "import os\n",
    "url=os.chdir(r'C:\\Users\\DRT\\Documents\\Meine IDEA Dokumente\\IDEA Projekte\\client\\Andere.ILB')"
   ]
  },
  {
   "cell_type": "code",
   "execution_count": 7,
   "metadata": {},
   "outputs": [],
   "source": [
    "# remove \"Übersicht sheets from Excel-files from IDEA SmartAnalyzer \"\n",
    "import openpyxl\n",
    "files = os.listdir(url)\n",
    "for file in files:\n",
    "    listname=[]\n",
    "    workbook=openpyxl.load_workbook(file)\n",
    "    if 'Übersicht' in workbook.sheetnames:\n",
    "        workbook.remove(workbook['Übersicht'])\n",
    "    else:\n",
    "        pass\n",
    "    workbook.save(file)   \n",
    "    #listsheet=workbook.get_sheet_names()\n",
    "    #listname.append(listsheet)\n",
    "    #print(listname)"
   ]
  },
  {
   "cell_type": "code",
   "execution_count": 8,
   "metadata": {},
   "outputs": [],
   "source": [
    "import os\n",
    "path=os.chdir(r'C:\\Users\\DRT\\Desktop')"
   ]
  },
  {
   "cell_type": "code",
   "execution_count": 10,
   "metadata": {
    "scrolled": true
   },
   "outputs": [],
   "source": [
    "#read all files in IDEA export folder and add it to list\n",
    "import xlwings as xw\n",
    "excels = []\n",
    "for root, dirs, files in os.walk(r'C:\\Users\\DRT\\Documents\\Meine IDEA Dokumente\\IDEA Projekte\\client\\Andere.ILB'):\n",
    "    for file in files:\n",
    "        if file.endswith('.xlsx'):\n",
    "            excels.append(file) \n",
    "            \n",
    "#Get Excel Template\n",
    "first_book = xw.Book(r'C:\\Users\\DRT\\Desktop\\TemplateDatanalysis.xlsx')\n",
    "\n",
    "#Copy all excel sheet for all files in IDEA export folder to Excel Template and save it to new excel file\n",
    "#https://developpaper.com/batch-modification-of-excel-file-xlwings-in-python-2/\n",
    "os.chdir(r'C:\\Users\\DRT\\Documents\\Meine IDEA Dokumente\\IDEA Projekte\\client\\Andere.ILB')\n",
    "originPath = r'C:\\Users\\DRT\\Documents\\Meine IDEA Dokumente\\IDEA Projekte\\client\\Andere.ILB'\n",
    "for fileItem in excels:\n",
    "    app = xw.Book(originPath + '/' + fileItem)\n",
    "    for sheet in app.sheets:\n",
    "        #print(sheet.name)\n",
    "        sheet.copy(after=first_book.sheets[-1])\n",
    "\n",
    "first_book.save(r'FinalerBericht.xlsx')\n",
    "#Close the workbook\n",
    "first_book.close()\n",
    "app.close()\n",
    "    \n",
    "    "
   ]
  }
 ],
 "metadata": {
  "kernelspec": {
   "display_name": "Python 3",
   "language": "python",
   "name": "python3"
  },
  "language_info": {
   "codemirror_mode": {
    "name": "ipython",
    "version": 3
   },
   "file_extension": ".py",
   "mimetype": "text/x-python",
   "name": "python",
   "nbconvert_exporter": "python",
   "pygments_lexer": "ipython3",
   "version": "3.8.8"
  }
 },
 "nbformat": 4,
 "nbformat_minor": 4
}
